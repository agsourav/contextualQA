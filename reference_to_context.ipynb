{
  "nbformat": 4,
  "nbformat_minor": 0,
  "metadata": {
    "colab": {
      "name": "reference_to_context.ipynb",
      "provenance": [],
      "collapsed_sections": [],
      "toc_visible": true
    },
    "kernelspec": {
      "name": "python3",
      "display_name": "Python 3"
    }
  },
  "cells": [
    {
      "cell_type": "code",
      "metadata": {
        "id": "5-YJcHguoDQv",
        "colab_type": "code",
        "colab": {}
      },
      "source": [
        "import os\n",
        "import nltk\n",
        "from sklearn.feature_extraction.text import TfidfVectorizer"
      ],
      "execution_count": 0,
      "outputs": []
    },
    {
      "cell_type": "code",
      "metadata": {
        "id": "RlQr910v5UZT",
        "colab_type": "code",
        "colab": {}
      },
      "source": [
        "import pandas as pd"
      ],
      "execution_count": 0,
      "outputs": []
    },
    {
      "cell_type": "code",
      "metadata": {
        "id": "LQfktjKh3djX",
        "colab_type": "code",
        "colab": {}
      },
      "source": [
        "file = open('ref1.txt', 'r')\n",
        "corpus = file.readlines()\n",
        "file.close()"
      ],
      "execution_count": 0,
      "outputs": []
    },
    {
      "cell_type": "code",
      "metadata": {
        "id": "PE41zz4jxoQC",
        "colab_type": "code",
        "outputId": "faa135fd-8842-471d-a382-a228afad81a1",
        "colab": {
          "base_uri": "https://localhost:8080/",
          "height": 224
        }
      },
      "source": [
        "corpus"
      ],
      "execution_count": 4,
      "outputs": [
        {
          "output_type": "execute_result",
          "data": {
            "text/plain": [
              "['China, in  recent time, has converted a large number of rocks across the South China Sea into islands, where it has based missiles, armed personnel and military aircraft, using its military might.\\n',\n",
              " '\\n',\n",
              " 'The Obama Administration took virtually no action in response to Chinese belligerence against the Philippines — a longtime military ally. Worse still, the US recently acquiesced in the seizure of one of its unmanned underwater vehicles close to the Philippines. Chinese belligerence is paying off. President Duterte of the Philippines has quietly acquiesced to Beijing’s territorial demands. ASEAN countries like Malaysia, Brunei, Thailand and Cambodia are following suit. Myanmar is being pressured by China, by permitting Chinese territory to be used by armed ethnic groups from Myanmar’s bordering Shan and Kachin states.\\n',\n",
              " '\\n',\n",
              " 'It is clear that a belligerent China is no longer prepared to tolerate any challenges to its dominance and hegemony across Asia. Agni IV, currently operational, with a range of 4,000 km, can hit targets in southern China, while Agni V, with a range of 5,500-8000 km, can hit even at the farthest points in China. The submarine-launched Sagarika missile, currently operational, has a range of 750 km. Its variants — under development — can hit across China from the Bay of Bengal. China, in turn, has transferred the designs and knowhow of the Shaheen range of missiles to Pakistan. These missiles can hit targets across India. Moreover, Karachi and Gwadar will be used, not only to base the eight submarines China is supplying to Pakistan, but also serve as bases for Chinese nuclear and conventional submarines that are now venturing increasingly into the Indian Ocean. The range of missiles being developed by India clearly signals to China that it will find any effort to use Pakistan as a nuclear proxy against India very costly and perhaps unaffordable. Agni V is virtually invulnerable as it is mobile and housed in canisters.\\n',\n",
              " '\\n',\n",
              " 'New Delhi needs to be far more active in insisting that a comprehensive nuclear dialogue with China is essential for strategic stability across Asia. China is loathe to enter into such a dialogue as it evidently wishes to not formally accord recognition to India’s nuclear weapons status, even as it peddles nuclear weapons and ballistic missile designs and materials to Pakistan, while helping Pakistan to develop both uranium and plutonium-based nuclear weapons. These transfers to Pakistan are in total disregard of China’s responsibilities under the nuclear Non-Proliferation Treaty. India has been far too defensive and avoided exposing the Sino-Pakistan nuclear/missile nexus in important world capitals, notably Washington, London, Paris, Moscow and Tokyo. A far more determined effort on this score would be necessary once the Trump Administration assumes office and settles down to looking at the world.\\n',\n",
              " '\\n',\n",
              " 'Within Asia, Chinese hubris and arrogance would need far closer consultations and dialogue with countries like Japan, Vietnam and Indonesia. There appears to be a sentiment growing slowly in Tokyo that in the face of Chinese territorial and geopolitical ambitions, Japan should review its nuclear policies. The incoming Trump Administration has also indicated that allies like Japan need to do more to defend themselves, rather than depend excessively on the US. A nuclear-armed Japan can certainly play a key role in moderating Chinese behaviour and hubris. This is an issue that needs to be looked at carefully. All this has to be combined with a vigorous dialogue with China, which includes maintenance of peace and tranquility along our borders, expanding equitable trade and economic ties and promoting peace and stability across the entire Indo-Pacific Region.\\n',\n",
              " '\\n',\n",
              " '\\n']"
            ]
          },
          "metadata": {
            "tags": []
          },
          "execution_count": 4
        }
      ]
    },
    {
      "cell_type": "code",
      "metadata": {
        "id": "mWJl8TE4MGut",
        "colab_type": "code",
        "outputId": "c438ea5f-4431-4adb-952b-95c00b584795",
        "colab": {
          "base_uri": "https://localhost:8080/",
          "height": 51
        }
      },
      "source": [
        "nltk.download('stopwords')\n",
        "from nltk.corpus import stopwords"
      ],
      "execution_count": 5,
      "outputs": [
        {
          "output_type": "stream",
          "text": [
            "[nltk_data] Downloading package stopwords to /root/nltk_data...\n",
            "[nltk_data]   Unzipping corpora/stopwords.zip.\n"
          ],
          "name": "stdout"
        }
      ]
    },
    {
      "cell_type": "code",
      "metadata": {
        "id": "BQnk_eA-9Rdt",
        "colab_type": "code",
        "outputId": "589bd7ce-7f25-4bd3-8d1c-604e53b1cb76",
        "colab": {
          "base_uri": "https://localhost:8080/",
          "height": 68
        }
      },
      "source": [
        "nltk.download('punkt')"
      ],
      "execution_count": 6,
      "outputs": [
        {
          "output_type": "stream",
          "text": [
            "[nltk_data] Downloading package punkt to /root/nltk_data...\n",
            "[nltk_data]   Unzipping tokenizers/punkt.zip.\n"
          ],
          "name": "stdout"
        },
        {
          "output_type": "execute_result",
          "data": {
            "text/plain": [
              "True"
            ]
          },
          "metadata": {
            "tags": []
          },
          "execution_count": 6
        }
      ]
    },
    {
      "cell_type": "code",
      "metadata": {
        "id": "hapMwOm9ZbdR",
        "colab_type": "code",
        "colab": {}
      },
      "source": [
        "from collections import Counter"
      ],
      "execution_count": 0,
      "outputs": []
    },
    {
      "cell_type": "code",
      "metadata": {
        "id": "z0q6TU823yBL",
        "colab_type": "code",
        "colab": {}
      },
      "source": [
        "vectorizer = TfidfVectorizer(input = file, strip_accents = 'ascii', lowercase = \n",
        "                            True, norm = 'l2', smooth_idf = True, stop_words = 'english')"
      ],
      "execution_count": 0,
      "outputs": []
    },
    {
      "cell_type": "markdown",
      "metadata": {
        "id": "Gg_T3a2QHh-7",
        "colab_type": "text"
      },
      "source": [
        "### Finding the most relevant answer"
      ]
    },
    {
      "cell_type": "code",
      "metadata": {
        "id": "9tFsFhC_EMNi",
        "colab_type": "code",
        "colab": {}
      },
      "source": [
        "class Contextual_QA:\n",
        "  corpus = []\n",
        "  #vectorizer = TfidfVectorizer(strip_accents = 'ascii',lowercase = \n",
        "  #                          True, norm = 'l2', smooth_idf = True, stop_words = \n",
        "  #                             'english')\n",
        "  #X = vectorizer.fit_transform(para)\n",
        "  #idf = pd.DataFrame({'feature':vectorizer.get_feature_names(), \n",
        "  #                    'idf_value':vectorizer.idf_})\n",
        "  stop = stopwords.words('english')\n",
        "  \n",
        "  def __init__(self, ques):\n",
        "    self.ques = ques\n",
        "    self.answers = []\n",
        "    \n",
        "  def paraphrase(self):\n",
        "    para = corpus\n",
        "    while '\\n' in para:\n",
        "      para.remove('\\n')\n",
        "    return para\n",
        "  \n",
        "  def most_imp_words(self, para, X, num_of_imp = 3, vectorizer = vectorizer):\n",
        "    #num_of_imp can be adjusted if the answer does not contain words similar to ques\n",
        "    #X = vectorizer.fit_transform(para) \n",
        "    #lines = []\n",
        "    most_imp = []\n",
        "    for i in range(len(para)):\n",
        "      line_1 = pd.DataFrame(X[i].T.todense(), index = vectorizer.get_feature_names(), columns = ['tfidf'])\n",
        "      line_1 = line_1.sort_values(by=['tfidf'], ascending=[False])\n",
        "      x = line_1[:num_of_imp]\n",
        "      #print(x.index.values)\n",
        "      most_imp.append(list(x.index.values))\n",
        "      #lines.append(line_1)\n",
        "    return most_imp\n",
        "\n",
        "  def question(self, stop=stop):\n",
        "    words = nltk.word_tokenize(self.ques)\n",
        "    words = [x.lower() for x in words if x not in stop]\n",
        "    return words\n",
        "  \n",
        "  def matching_para_sent(self, most_imp, words):\n",
        "    para_count = []\n",
        "    for i in range(len(most_imp)):\n",
        "      p = [word.lower() for word in most_imp[i] if word in words]\n",
        "      para_count.append(p)\n",
        "    #print(para_count)\n",
        "    most_matching = [(para_count[i],i) for i in range(len(para_count)) if len(para_count[i]) ==max(len(e) for e in para_count)]\n",
        "    return most_matching\n",
        "  \n",
        "  def tf_idf(self, words, idf, Counter = Counter):\n",
        "    term_freq = Counter(words)\n",
        "    tf_idf = idf.loc[idf['feature'].isin(words)]\n",
        "    tf = [term_freq[x] for x in tf_idf['feature']]\n",
        "    tf_idf.loc[:,'tf'] = tf[:]\n",
        "    tf_idf['tfidf'] = tf_idf['idf_value']*tf_idf['tf']\n",
        "    tf_idf.sort_values(by=['tfidf'], ascending=[False])\n",
        "    return tf_idf\n",
        "\n",
        "  def para_sentences(self, most_matching):\n",
        "    l = []\n",
        "    for val in most_matching:\n",
        "      idx = val[1]\n",
        "      sentences = para[idx].split('.')\n",
        "      sentences.remove('\\n')\n",
        "      l.append(sentences)\n",
        "    return l\n",
        "  \n",
        "  def answer(self, para, sentences):\n",
        "    l = []\n",
        "    for val in sentences:\n",
        "      idx = val[1]\n",
        "      sent = para[idx]\n",
        "      #sent.remove('\\n')\n",
        "      l.append(sent)\n",
        "    sentence = ''.join(map(str,l))\n",
        "    self.answers.append(sentence)\n",
        "    return sentence\n"
      ],
      "execution_count": 0,
      "outputs": []
    },
    {
      "cell_type": "code",
      "metadata": {
        "id": "hFIaJVXWHQpn",
        "colab_type": "code",
        "colab": {}
      },
      "source": [
        "Contextual_QA.corpus = corpus"
      ],
      "execution_count": 0,
      "outputs": []
    },
    {
      "cell_type": "code",
      "metadata": {
        "id": "MIICOMCsQnnd",
        "colab_type": "code",
        "colab": {}
      },
      "source": [
        "quesA = 'How is China pressuring Myanmar for submission to its dominance?'\n",
        "quesB = 'What was the response of Obama Government of USA to Chinese hostility towards Philippines?'\n",
        "quesC = 'How China and Pakistan are deploying their submarines in sea?'"
      ],
      "execution_count": 0,
      "outputs": []
    },
    {
      "cell_type": "code",
      "metadata": {
        "id": "lxTuINCINCmZ",
        "colab_type": "code",
        "outputId": "2a7cd2de-27e0-47d6-c14a-f819c58775bf",
        "colab": {
          "base_uri": "https://localhost:8080/",
          "height": 326
        }
      },
      "source": [
        "ques1 = Contextual_QA(quesA)\n",
        "para = ques1.paraphrase()\n",
        "X = vectorizer.fit_transform(para)\n",
        "idf = pd.DataFrame({'feature':vectorizer.get_feature_names(),\n",
        "                    'idf_value':vectorizer.idf_})\n",
        "most_imp_para = ques1.most_imp_words(para,X,5)\n",
        "words = ques1.question()\n",
        "most_matching_para = ques1.matching_para_sent(most_imp_para, words)\n",
        "tfidf = ques1.tf_idf(words, idf)"
      ],
      "execution_count": 40,
      "outputs": [
        {
          "output_type": "stream",
          "text": [
            "/usr/local/lib/python3.6/dist-packages/pandas/core/indexing.py:376: SettingWithCopyWarning: \n",
            "A value is trying to be set on a copy of a slice from a DataFrame.\n",
            "Try using .loc[row_indexer,col_indexer] = value instead\n",
            "\n",
            "See the caveats in the documentation: http://pandas.pydata.org/pandas-docs/stable/user_guide/indexing.html#returning-a-view-versus-a-copy\n",
            "  self.obj[key] = _infer_fill_value(value)\n",
            "/usr/local/lib/python3.6/dist-packages/pandas/core/indexing.py:494: SettingWithCopyWarning: \n",
            "A value is trying to be set on a copy of a slice from a DataFrame.\n",
            "Try using .loc[row_indexer,col_indexer] = value instead\n",
            "\n",
            "See the caveats in the documentation: http://pandas.pydata.org/pandas-docs/stable/user_guide/indexing.html#returning-a-view-versus-a-copy\n",
            "  self.obj[item] = s\n",
            "/usr/local/lib/python3.6/dist-packages/ipykernel_launcher.py:54: SettingWithCopyWarning: \n",
            "A value is trying to be set on a copy of a slice from a DataFrame.\n",
            "Try using .loc[row_indexer,col_indexer] = value instead\n",
            "\n",
            "See the caveats in the documentation: http://pandas.pydata.org/pandas-docs/stable/user_guide/indexing.html#returning-a-view-versus-a-copy\n"
          ],
          "name": "stderr"
        }
      ]
    },
    {
      "cell_type": "code",
      "metadata": {
        "id": "WQKhDYI6ZAor",
        "colab_type": "code",
        "colab": {
          "base_uri": "https://localhost:8080/",
          "height": 34
        },
        "outputId": "bb39acbc-032e-4a88-a1e4-54130eec7600"
      },
      "source": [
        "ques1.ques"
      ],
      "execution_count": 41,
      "outputs": [
        {
          "output_type": "execute_result",
          "data": {
            "text/plain": [
              "'How is China pressuring Myanmar for submission to its dominance?'"
            ]
          },
          "metadata": {
            "tags": []
          },
          "execution_count": 41
        }
      ]
    },
    {
      "cell_type": "code",
      "metadata": {
        "colab_type": "code",
        "outputId": "18c288a0-d33c-4272-a4c6-fc031790b762",
        "id": "ZuII8SFgiZnN",
        "colab": {
          "base_uri": "https://localhost:8080/",
          "height": 34
        }
      },
      "source": [
        "most_matching_para"
      ],
      "execution_count": 42,
      "outputs": [
        {
          "output_type": "execute_result",
          "data": {
            "text/plain": [
              "[(['china'], 2)]"
            ]
          },
          "metadata": {
            "tags": []
          },
          "execution_count": 42
        }
      ]
    },
    {
      "cell_type": "code",
      "metadata": {
        "id": "RSuiJ0VsPNGb",
        "colab_type": "code",
        "colab": {}
      },
      "source": [
        "para_sentences = ques1.para_sentences(most_matching_para)\n",
        "#para_sentences"
      ],
      "execution_count": 0,
      "outputs": []
    },
    {
      "cell_type": "code",
      "metadata": {
        "id": "_mDUwtdHPZSK",
        "colab_type": "code",
        "outputId": "1b175f41-0bb8-4b9f-a69a-a2b30d75c710",
        "colab": {
          "base_uri": "https://localhost:8080/",
          "height": 105
        }
      },
      "source": [
        "for l in para_sentences:\n",
        "  #print(l,'\\n')\n",
        "  X = vectorizer.fit_transform(l)\n",
        "  most_imp = ques1.most_imp_words(l,X)\n",
        "  #print(most_imp,'\\n')\n",
        "  most_matching_sent = ques1.matching_para_sent(most_imp,words)\n",
        "  print(most_matching_sent,'\\n')\n",
        "  answer = ques1.answer(l, most_matching_sent)\n",
        "  print(answer,'\\n')"
      ],
      "execution_count": 44,
      "outputs": [
        {
          "output_type": "stream",
          "text": [
            "[([], 0), ([], 1), ([], 2), ([], 3), ([], 4), ([], 5), ([], 6), ([], 7), ([], 8)] \n",
            "\n",
            "It is clear that a belligerent China is no longer prepared to tolerate any challenges to its dominance and hegemony across Asia Agni IV, currently operational, with a range of 4,000 km, can hit targets in southern China, while Agni V, with a range of 5,500-8000 km, can hit even at the farthest points in China The submarine-launched Sagarika missile, currently operational, has a range of 750 km Its variants — under development — can hit across China from the Bay of Bengal China, in turn, has transferred the designs and knowhow of the Shaheen range of missiles to Pakistan These missiles can hit targets across India Moreover, Karachi and Gwadar will be used, not only to base the eight submarines China is supplying to Pakistan, but also serve as bases for Chinese nuclear and conventional submarines that are now venturing increasingly into the Indian Ocean The range of missiles being developed by India clearly signals to China that it will find any effort to use Pakistan as a nuclear proxy against India very costly and perhaps unaffordable Agni V is virtually invulnerable as it is mobile and housed in canisters \n",
            "\n"
          ],
          "name": "stdout"
        }
      ]
    },
    {
      "cell_type": "code",
      "metadata": {
        "id": "gJn9yTYXQTqo",
        "colab_type": "code",
        "outputId": "ce7f4cdb-32a6-4270-8dae-8302738b2535",
        "colab": {
          "base_uri": "https://localhost:8080/",
          "height": 54
        }
      },
      "source": [
        "ques1.answers"
      ],
      "execution_count": 45,
      "outputs": [
        {
          "output_type": "execute_result",
          "data": {
            "text/plain": [
              "['It is clear that a belligerent China is no longer prepared to tolerate any challenges to its dominance and hegemony across Asia Agni IV, currently operational, with a range of 4,000 km, can hit targets in southern China, while Agni V, with a range of 5,500-8000 km, can hit even at the farthest points in China The submarine-launched Sagarika missile, currently operational, has a range of 750 km Its variants — under development — can hit across China from the Bay of Bengal China, in turn, has transferred the designs and knowhow of the Shaheen range of missiles to Pakistan These missiles can hit targets across India Moreover, Karachi and Gwadar will be used, not only to base the eight submarines China is supplying to Pakistan, but also serve as bases for Chinese nuclear and conventional submarines that are now venturing increasingly into the Indian Ocean The range of missiles being developed by India clearly signals to China that it will find any effort to use Pakistan as a nuclear proxy against India very costly and perhaps unaffordable Agni V is virtually invulnerable as it is mobile and housed in canisters']"
            ]
          },
          "metadata": {
            "tags": []
          },
          "execution_count": 45
        }
      ]
    },
    {
      "cell_type": "code",
      "metadata": {
        "id": "Y0zsiA77St6f",
        "colab_type": "code",
        "colab": {}
      },
      "source": [
        ""
      ],
      "execution_count": 0,
      "outputs": []
    }
  ]
}